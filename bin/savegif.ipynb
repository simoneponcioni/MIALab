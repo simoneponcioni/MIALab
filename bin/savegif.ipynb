{
 "cells": [
  {
   "cell_type": "code",
   "execution_count": null,
   "metadata": {},
   "outputs": [],
   "source": [
    "import imageio\n",
    "import os"
   ]
  },
  {
   "cell_type": "code",
   "execution_count": null,
   "metadata": {},
   "outputs": [],
   "source": [
    "images = []\n",
    "temp_dir = \"/home/simoneponcioni/Documents/03_LECTURES/MIALab/sbd_results/circle_dr\"\n",
    "for i in range(0, 10, 1):\n",
    "    # Save the image to a temporary file\n",
    "    file_name = f\"circle_{i}.gif\"\n",
    "    file_path = os.path.join(temp_dir, file_name)\n",
    "    # Read the saved image back into memory\n",
    "    image = imageio.imread(file_path)\n",
    "    # Add the image to the list\n",
    "    images.append(image)\n",
    "    # Save the GIF using imageio\n",
    "    save_path = os.path.join(temp_dir, \"animation_circle_dr.gif\")\n",
    "    imageio.mimwrite(save_path, images, fps=2)"
   ]
  }
 ],
 "metadata": {
  "kernelspec": {
   "display_name": "mialab",
   "language": "python",
   "name": "python3"
  },
  "language_info": {
   "name": "python",
   "version": "3.8.13 | packaged by conda-forge | (default, Mar 25 2022, 06:04:18) \n[GCC 10.3.0]"
  },
  "orig_nbformat": 4,
  "vscode": {
   "interpreter": {
    "hash": "7a0469fbe1203f7bcb6bf7b7b86effdd6c842c1905211a7507b9db3f3d68d66a"
   }
  }
 },
 "nbformat": 4,
 "nbformat_minor": 2
}
